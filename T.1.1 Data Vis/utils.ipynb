{
 "cells": [
  {
   "cell_type": "markdown",
   "id": "727251ef",
   "metadata": {},
   "source": [
    "# Import dependencies"
   ]
  },
  {
   "cell_type": "code",
   "execution_count": 1,
   "id": "26f0b7cb",
   "metadata": {},
   "outputs": [],
   "source": [
    "import pandas as pd\n",
    "import numpy as np\n",
    "import matplotlib.pyplot as plt\n",
    "import json\n",
    "import os\n",
    "import random\n",
    "from PIL import Image\n",
    "import PIL.ImageDraw as ImageDraw\n",
    "from matplotlib.patches import Polygon, Rectangle"
   ]
  },
  {
   "cell_type": "markdown",
   "id": "148fbb78",
   "metadata": {},
   "source": [
    "# Get the directory direction"
   ]
  },
  {
   "cell_type": "code",
   "execution_count": 2,
   "id": "a2b1fe6d",
   "metadata": {},
   "outputs": [],
   "source": [
    "root = os.getcwd()"
   ]
  },
  {
   "cell_type": "markdown",
   "id": "55382610",
   "metadata": {},
   "source": [
    "# Get the data and annotations files"
   ]
  },
  {
   "cell_type": "code",
   "execution_count": 15,
   "id": "e12733ce",
   "metadata": {},
   "outputs": [],
   "source": [
    "annots_data = os.listdir(root + '/data')\n",
    "imgs_data = os.listdir(root + '/images')\n",
    "\n",
    "annots_data.sort()\n",
    "imgs_data.sort()\n"
   ]
  },
  {
   "cell_type": "markdown",
   "id": "9cf09b8f",
   "metadata": {},
   "source": [
    "# Functions"
   ]
  },
  {
   "cell_type": "code",
   "execution_count": 18,
   "id": "da410a42",
   "metadata": {},
   "outputs": [],
   "source": [
    "def get_labels(annot):\n",
    "    \"\"\"returns the labels needed to draw the polygons, bounding box\n",
    "    and denormalize the points\n",
    "    \"\"\"\n",
    "    labels = []\n",
    "    points = []\n",
    "    width = 0\n",
    "    height = 0\n",
    "    for an in annot:\n",
    "        if 'polygonlabels' in an['value']:\n",
    "            labels.append(an['value']['polygonlabels'][0])\n",
    "            points.append(an['value']['points'])\n",
    "            width = int(an['original_width'])\n",
    "            height = int(an['original_height'])\n",
    "    return labels, points, width, height"
   ]
  },
  {
   "cell_type": "code",
   "execution_count": 21,
   "id": "9d5ef441",
   "metadata": {},
   "outputs": [],
   "source": [
    "def create_xy(coords, width, height):\n",
    "    \"\"\"returns a tuple with the normalized xy points in the\n",
    "    needed format for polygons\n",
    "    \"\"\"\n",
    "    coords.append(coords[0])\n",
    "    x, y = zip(*coords)\n",
    "    x = np.asarray(x)\n",
    "    y = np.asarray(y)\n",
    "    norm_x = ( x / 100 ) * width\n",
    "    norm_y = (y / 100 ) * height\n",
    "    return (norm_x, norm_y)"
   ]
  },
  {
   "cell_type": "code",
   "execution_count": 20,
   "id": "4c0ad35b",
   "metadata": {},
   "outputs": [],
   "source": [
    "def bounding_box_naive(points):\n",
    "    \"\"\"returns a list containing the bottom left and the top right \n",
    "    points in the sequence\n",
    "    Here, we use min and max four times over the collection of points\n",
    "    \"\"\"\n",
    "    bot_left_x = min(point[0] for point in points)\n",
    "    bot_left_y = min(point[1] for point in points)\n",
    "    top_right_x = max(point[0] for point in points)\n",
    "    top_right_y = max(point[1] for point in points)\n",
    "\n",
    "    return [(bot_left_x, bot_left_y), (top_right_x, top_right_y)]"
   ]
  },
  {
   "cell_type": "code",
   "execution_count": 24,
   "id": "b13fd33c",
   "metadata": {},
   "outputs": [],
   "source": [
    "def lighten_color(color, amount=0.3):\n",
    "    \"\"\"returns a lighten color for the polygons\n",
    "    \"\"\"\n",
    "    import matplotlib.colors as mc\n",
    "    import colorsys\n",
    "    try:\n",
    "        c = mc.cnames[color]\n",
    "    except:\n",
    "        c = color\n",
    "    c = colorsys.rgb_to_hls(*mc.to_rgb(c))\n",
    "    return colorsys.hls_to_rgb(c[0], 1 - amount * (1 - c[1]), c[2])"
   ]
  },
  {
   "cell_type": "code",
   "execution_count": 15,
   "id": "85770dee",
   "metadata": {},
   "outputs": [],
   "source": [
    "def draw_annots(image_path, labels, points, width, height, alpha=0.5, t=1):\n",
    "    \"\"\"display the annotated image with polygons, bounding_box and label\n",
    "    The alpha value controls the transparecy\n",
    "    \"\"\"\n",
    "    colors = ['r','g','b','c','m','y']\n",
    "\n",
    "    fig, ax = plt.subplots()\n",
    "    image = Image.open(image_path)\n",
    "    ax.imshow(image)\n",
    "    \n",
    "    for label, p in zip(labels, points):\n",
    "        x,y = create_xy(p, width, height) #'#702219'\n",
    "        color = \"#%06x\" % random.randint(0, 0xFFFFFF)\n",
    "        border_color = random.choice(colors)\n",
    "        fill_color = lighten_color(border_color)\n",
    "        ax.add_patch(Polygon(np.vstack((x,y)).T, fill=True, color=fill_color, ec=border_color,\n",
    "                        alpha=alpha))\n",
    "        if t==2:\n",
    "            bb = bounding_box_naive(np.vstack((x,y)).T)\n",
    "            ax.add_patch(Rectangle(bb[0], bb[1][0]-bb[0][0], bb[1][1]-bb[0][1], linewidth=1, edgecolor=border_color, facecolor='none'))\n",
    "            ax.annotate(label, bb[0], color='black', weight='bold', fontsize=9)\n",
    "            \n",
    "    return ax"
   ]
  },
  {
   "cell_type": "code",
   "execution_count": 18,
   "id": "185daadd",
   "metadata": {},
   "outputs": [],
   "source": [
    "def draw_image(image_path,  meta_data_json_path, alpha):\n",
    "    \"\"\"Main function, draw the annotations on the image.\n",
    "    \"\"\"\n",
    "    \n",
    "    file = open(meta_data_json_path)\n",
    "    annot = json.load(file)\n",
    "    \n",
    "    labels, points, width, height = get_labels(annot)\n",
    "    type_1 = draw_annots(image_path, labels, points, width, height, alpha, t=1)\n",
    "    type_2 = draw_annots(image_path, labels, points, width, height, alpha, t=2)\n",
    "    \n",
    "    type_1 = fig2img(type_1.figure)\n",
    "    type_2 = fig2img(type_2.figure)\n",
    "    \n",
    "    return [type_1, type_2]\n",
    "    "
   ]
  },
  {
   "cell_type": "code",
   "execution_count": 19,
   "id": "ef947c27",
   "metadata": {},
   "outputs": [],
   "source": [
    "def fig2img(fig):\n",
    "    \"\"\"Convert a Matplotlib figure to a PIL Image and return it\"\"\"\n",
    "    import io\n",
    "    buf = io.BytesIO()\n",
    "    fig.savefig(buf)\n",
    "    buf.seek(0)\n",
    "    img = Image.open(buf)\n",
    "    return img\n"
   ]
  },
  {
   "cell_type": "code",
   "execution_count": null,
   "id": "dc8fb95b",
   "metadata": {},
   "outputs": [],
   "source": []
  }
 ],
 "metadata": {
  "kernelspec": {
   "display_name": "Python 3.9 (tensorflow)",
   "language": "python",
   "name": "tensorflow"
  },
  "language_info": {
   "codemirror_mode": {
    "name": "ipython",
    "version": 3
   },
   "file_extension": ".py",
   "mimetype": "text/x-python",
   "name": "python",
   "nbconvert_exporter": "python",
   "pygments_lexer": "ipython3",
   "version": "3.9.7"
  }
 },
 "nbformat": 4,
 "nbformat_minor": 5
}
